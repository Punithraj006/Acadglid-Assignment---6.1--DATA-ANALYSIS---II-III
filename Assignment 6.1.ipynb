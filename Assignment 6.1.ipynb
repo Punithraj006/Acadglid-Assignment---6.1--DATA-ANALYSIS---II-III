Problem statement:
    
Consider a DataFrame df where there is an integer column 'X':
    
    df = pd.DataFrame({'X': [7, 2, 0, 3, 4, 2, 5, 0, 3, 4]})
    
For each value, count the difference back to the previous zero (or the start of the Series,
whichever is closer).
These values should therefore be [1, 2, 0, 1, 2, 3, 4, 0, 1, 2]. Make this a new column 'Y'.



Solution:


import pandas as pd

df = pd.DataFrame({'X': [7, 2, 0, 3, 4, 2, 5, 0, 3, 4]})

# make a new column with zeros at zeros and nans elsewhere
df = df.assign(idx_from_0=df.loc[df.X==0])

nul = df['idx_from_0'].isnull()

df.assign(idx_from_0=nul.groupby((nul.diff() == 1).cumsum()).cumsum())


Output is: 
    
Out[1]:
    X   idx_from_0
0   7   1.0
1   2   2.0
2   0   0.0
3   3   1.0
4   4   2.0
5   2   3.0
6   5   4.0
7   0   0.0
8   3   1.0
9   4   2.0




